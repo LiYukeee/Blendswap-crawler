{
 "cells": [
  {
   "cell_type": "markdown",
   "metadata": {},
   "source": [
    "# 把title包含关键词的条目放入categories文件夹中，并生成对应的文件夹，并把已经下载好的文件放入其中"
   ]
  },
  {
   "cell_type": "code",
   "execution_count": 16,
   "metadata": {},
   "outputs": [],
   "source": [
    "import pandas as pd\n",
    "csv_file = 'data.csv'\n",
    "data = pd.read_csv(csv_file)\n",
    "data = data.dropna()\n",
    "# 根据title筛选\n",
    "keyword = 'car'  \n",
    "# 可以包含多个关键词，用'-'分隔，且不要包含空格，例如   desk-table\n",
    "# 如果是多个关键词的话，生成的文件夹就是desk-table，而不是两者各一个，建议对于一个类别用多个同义词作为关键词"
   ]
  },
  {
   "cell_type": "code",
   "execution_count": 17,
   "metadata": {},
   "outputs": [
    {
     "name": "stdout",
     "output_type": "stream",
     "text": [
      "\\bcar\\b\n",
      "包含目标信息的条目数量： 67\n",
      "已经下载的： 67\n"
     ]
    },
    {
     "data": {
      "text/html": [
       "<div>\n",
       "<style scoped>\n",
       "    .dataframe tbody tr th:only-of-type {\n",
       "        vertical-align: middle;\n",
       "    }\n",
       "\n",
       "    .dataframe tbody tr th {\n",
       "        vertical-align: top;\n",
       "    }\n",
       "\n",
       "    .dataframe thead th {\n",
       "        text-align: right;\n",
       "    }\n",
       "</style>\n",
       "<table border=\"1\" class=\"dataframe\">\n",
       "  <thead>\n",
       "    <tr style=\"text-align: right;\">\n",
       "      <th></th>\n",
       "      <th>Unnamed: 0.1</th>\n",
       "      <th>Unnamed: 0</th>\n",
       "      <th>page</th>\n",
       "      <th>id</th>\n",
       "      <th>title</th>\n",
       "      <th>cc</th>\n",
       "      <th>download_times</th>\n",
       "      <th>like</th>\n",
       "      <th>is_download</th>\n",
       "      <th>size(MB)</th>\n",
       "      <th>path</th>\n",
       "    </tr>\n",
       "  </thead>\n",
       "  <tbody>\n",
       "    <tr>\n",
       "      <th>512</th>\n",
       "      <td>512</td>\n",
       "      <td>512</td>\n",
       "      <td>29</td>\n",
       "      <td>2194</td>\n",
       "      <td>Lego Police car 8152</td>\n",
       "      <td>CC-BY-SA</td>\n",
       "      <td>390</td>\n",
       "      <td>0</td>\n",
       "      <td>yes</td>\n",
       "      <td>0.2384929656982422</td>\n",
       "      <td>data/2194.blend</td>\n",
       "    </tr>\n",
       "    <tr>\n",
       "      <th>2741</th>\n",
       "      <td>2741</td>\n",
       "      <td>2741</td>\n",
       "      <td>153</td>\n",
       "      <td>4502</td>\n",
       "      <td>Orca concept car</td>\n",
       "      <td>CC-BY</td>\n",
       "      <td>644</td>\n",
       "      <td>9</td>\n",
       "      <td>yes</td>\n",
       "      <td>4.2466583251953125</td>\n",
       "      <td>data/4502.blend</td>\n",
       "    </tr>\n",
       "    <tr>\n",
       "      <th>2978</th>\n",
       "      <td>2978</td>\n",
       "      <td>2978</td>\n",
       "      <td>166</td>\n",
       "      <td>4745</td>\n",
       "      <td>Stone-age two seater car</td>\n",
       "      <td>CC-0</td>\n",
       "      <td>482</td>\n",
       "      <td>7</td>\n",
       "      <td>yes</td>\n",
       "      <td>0.6125659942626953</td>\n",
       "      <td>data/4745.blend</td>\n",
       "    </tr>\n",
       "    <tr>\n",
       "      <th>3132</th>\n",
       "      <td>3132</td>\n",
       "      <td>3132</td>\n",
       "      <td>175</td>\n",
       "      <td>4904</td>\n",
       "      <td>Aluminium car wheel with tire</td>\n",
       "      <td>CC-BY</td>\n",
       "      <td>1179</td>\n",
       "      <td>0</td>\n",
       "      <td>yes</td>\n",
       "      <td>0.1685810089111328</td>\n",
       "      <td>data/4904.blend</td>\n",
       "    </tr>\n",
       "    <tr>\n",
       "      <th>4234</th>\n",
       "      <td>4234</td>\n",
       "      <td>4234</td>\n",
       "      <td>236</td>\n",
       "      <td>6018</td>\n",
       "      <td>car and road</td>\n",
       "      <td>CC-BY</td>\n",
       "      <td>957</td>\n",
       "      <td>4</td>\n",
       "      <td>yes</td>\n",
       "      <td>2.3336610794067383</td>\n",
       "      <td>data/6018.blend</td>\n",
       "    </tr>\n",
       "    <tr>\n",
       "      <th>...</th>\n",
       "      <td>...</td>\n",
       "      <td>...</td>\n",
       "      <td>...</td>\n",
       "      <td>...</td>\n",
       "      <td>...</td>\n",
       "      <td>...</td>\n",
       "      <td>...</td>\n",
       "      <td>...</td>\n",
       "      <td>...</td>\n",
       "      <td>...</td>\n",
       "      <td>...</td>\n",
       "    </tr>\n",
       "    <tr>\n",
       "      <th>22449</th>\n",
       "      <td>22449</td>\n",
       "      <td>22450</td>\n",
       "      <td>1248</td>\n",
       "      <td>26373</td>\n",
       "      <td>Basic Jeep car model</td>\n",
       "      <td>CC-0</td>\n",
       "      <td>688</td>\n",
       "      <td>19</td>\n",
       "      <td>yes</td>\n",
       "      <td>5.811988830566406</td>\n",
       "      <td>data/26373.blend</td>\n",
       "    </tr>\n",
       "    <tr>\n",
       "      <th>23604</th>\n",
       "      <td>23604</td>\n",
       "      <td>23605</td>\n",
       "      <td>1312</td>\n",
       "      <td>28462</td>\n",
       "      <td>low poly car</td>\n",
       "      <td>CC-0</td>\n",
       "      <td>54</td>\n",
       "      <td>0</td>\n",
       "      <td>yes</td>\n",
       "      <td>2.618907928466797</td>\n",
       "      <td>data/28462.blend</td>\n",
       "    </tr>\n",
       "    <tr>\n",
       "      <th>24095</th>\n",
       "      <td>24095</td>\n",
       "      <td>24096</td>\n",
       "      <td>1339</td>\n",
       "      <td>29311</td>\n",
       "      <td>Blue low poly car</td>\n",
       "      <td>CC-BY</td>\n",
       "      <td>139</td>\n",
       "      <td>0</td>\n",
       "      <td>yes</td>\n",
       "      <td>0.16785526275634766</td>\n",
       "      <td>data/29311.blend</td>\n",
       "    </tr>\n",
       "    <tr>\n",
       "      <th>24133</th>\n",
       "      <td>24133</td>\n",
       "      <td>24134</td>\n",
       "      <td>1341</td>\n",
       "      <td>29385</td>\n",
       "      <td>Llanta wheel Tire car</td>\n",
       "      <td>CC-BY</td>\n",
       "      <td>277</td>\n",
       "      <td>7</td>\n",
       "      <td>yes</td>\n",
       "      <td>1.688201904296875</td>\n",
       "      <td>data/29385.blend</td>\n",
       "    </tr>\n",
       "    <tr>\n",
       "      <th>24514</th>\n",
       "      <td>24514</td>\n",
       "      <td>24515</td>\n",
       "      <td>1362</td>\n",
       "      <td>30112</td>\n",
       "      <td>Urban lamp post - low speed impact (minus car)</td>\n",
       "      <td>CC-BY</td>\n",
       "      <td>139</td>\n",
       "      <td>4</td>\n",
       "      <td>yes</td>\n",
       "      <td>45.58708953857422</td>\n",
       "      <td>data/30112.blend</td>\n",
       "    </tr>\n",
       "  </tbody>\n",
       "</table>\n",
       "<p>67 rows × 11 columns</p>\n",
       "</div>"
      ],
      "text/plain": [
       "       Unnamed: 0.1  Unnamed: 0  page     id  \\\n",
       "512             512         512    29   2194   \n",
       "2741           2741        2741   153   4502   \n",
       "2978           2978        2978   166   4745   \n",
       "3132           3132        3132   175   4904   \n",
       "4234           4234        4234   236   6018   \n",
       "...             ...         ...   ...    ...   \n",
       "22449         22449       22450  1248  26373   \n",
       "23604         23604       23605  1312  28462   \n",
       "24095         24095       24096  1339  29311   \n",
       "24133         24133       24134  1341  29385   \n",
       "24514         24514       24515  1362  30112   \n",
       "\n",
       "                                                title        cc  \\\n",
       "512                              Lego Police car 8152  CC-BY-SA   \n",
       "2741                                 Orca concept car     CC-BY   \n",
       "2978                         Stone-age two seater car      CC-0   \n",
       "3132                    Aluminium car wheel with tire     CC-BY   \n",
       "4234                                     car and road     CC-BY   \n",
       "...                                               ...       ...   \n",
       "22449                            Basic Jeep car model      CC-0   \n",
       "23604                                    low poly car      CC-0   \n",
       "24095                               Blue low poly car     CC-BY   \n",
       "24133                           Llanta wheel Tire car     CC-BY   \n",
       "24514  Urban lamp post - low speed impact (minus car)     CC-BY   \n",
       "\n",
       "       download_times  like is_download             size(MB)              path  \n",
       "512               390     0         yes   0.2384929656982422   data/2194.blend  \n",
       "2741              644     9         yes   4.2466583251953125   data/4502.blend  \n",
       "2978              482     7         yes   0.6125659942626953   data/4745.blend  \n",
       "3132             1179     0         yes   0.1685810089111328   data/4904.blend  \n",
       "4234              957     4         yes   2.3336610794067383   data/6018.blend  \n",
       "...               ...   ...         ...                  ...               ...  \n",
       "22449             688    19         yes    5.811988830566406  data/26373.blend  \n",
       "23604              54     0         yes    2.618907928466797  data/28462.blend  \n",
       "24095             139     0         yes  0.16785526275634766  data/29311.blend  \n",
       "24133             277     7         yes    1.688201904296875  data/29385.blend  \n",
       "24514             139     4         yes    45.58708953857422  data/30112.blend  \n",
       "\n",
       "[67 rows x 11 columns]"
      ]
     },
     "execution_count": 17,
     "metadata": {},
     "output_type": "execute_result"
    }
   ],
   "source": [
    "pattern = []\n",
    "for word in keyword.split('-'):\n",
    "    if word != '':\n",
    "        word = word.strip()\n",
    "        pattern.append(r'\\b{}\\b'.format(word))\n",
    "pattern = '|'.join(pattern)\n",
    "print(pattern)\n",
    "minidata = data[data['title'].str.contains(pattern, regex=True)]\n",
    "print('包含目标信息的条目数量：', minidata.shape[0])\n",
    "print('已经下载的：', minidata[minidata['is_download'] == 'yes'].shape[0])\n",
    "minidata"
   ]
  },
  {
   "cell_type": "code",
   "execution_count": 18,
   "metadata": {},
   "outputs": [
    {
     "name": "stdout",
     "output_type": "stream",
     "text": [
      "keyword: car\n"
     ]
    }
   ],
   "source": [
    "# 将这些条目整理，并放入categories中\n",
    "print('keyword:',keyword)\n",
    "# 文件复制\n",
    "import os\n",
    "import shutil\n",
    "# 创建文件夹，用对应的keyword命名\n",
    "folder_path = 'categories/{}'.format(keyword)\n",
    "os.makedirs(folder_path, exist_ok=True)\n",
    "folder_data_path = 'categories/{}/data'.format(keyword)\n",
    "os.makedirs(folder_data_path, exist_ok=True)\n",
    "is_download_df = minidata[minidata['is_download'] == 'yes']\n",
    "# 逐条复制文件\n",
    "for i in range(is_download_df.shape[0]):\n",
    "    line = is_download_df.iloc[i]\n",
    "    path = line['path']\n",
    "    target_path = os.path.join(folder_path, path)\n",
    "    shutil.copy(path, target_path)\n",
    "# 创建该条目的csv文件\n",
    "minidata.to_csv(os.path.join(folder_path, 'data.csv'), index=False)\n",
    "\n"
   ]
  },
  {
   "cell_type": "markdown",
   "metadata": {},
   "source": [
    "# 错误处理\n",
    "某些时候因为下载次数过多ip别封禁，这时候不会提示下载cookie错误，而是无论对于什么模型，网站返回的下载都是一个192字节的文件，具体大小为0.00018310546875MB，我们要将这些条目删掉"
   ]
  },
  {
   "cell_type": "code",
   "execution_count": 136,
   "metadata": {},
   "outputs": [
    {
     "name": "stdout",
     "output_type": "stream",
     "text": [
      "处理之前的尺寸： 14118\n",
      "处理之前的尺寸： 14118\n"
     ]
    },
    {
     "name": "stderr",
     "output_type": "stream",
     "text": [
      "/tmp/ipykernel_3635987/3343344453.py:3: SettingWithCopyWarning: \n",
      "A value is trying to be set on a copy of a slice from a DataFrame.\n",
      "Try using .loc[row_indexer,col_indexer] = value instead\n",
      "\n",
      "See the caveats in the documentation: https://pandas.pydata.org/pandas-docs/stable/user_guide/indexing.html#returning-a-view-versus-a-copy\n",
      "  is_download_df['size(MB)'] = is_download_df['size(MB)'].astype(float)\n"
     ]
    }
   ],
   "source": [
    "is_download_df = data[data['is_download'] == 'yes']\n",
    "print(\"处理之前的尺寸：\", is_download_df.shape[0])\n",
    "is_download_df['size(MB)'] = is_download_df['size(MB)'].astype(float)\n",
    "condition = is_download_df['size(MB)'] == 0.00018310546875\n",
    "is_download_df.loc[condition, ['is_download', 'size(MB)', 'path']] = 'no'\n",
    "print(\"处理之前的尺寸：\", is_download_df[is_download_df['is_download'] == 'yes'].shape[0])\n",
    "# 覆盖原表中的这些内容\n",
    "data.loc[is_download_df.index] = is_download_df\n",
    "data.to_csv('data.csv')"
   ]
  },
  {
   "cell_type": "markdown",
   "metadata": {},
   "source": [
    "# test\n",
    "不要运行这里的内容"
   ]
  },
  {
   "cell_type": "code",
   "execution_count": 147,
   "metadata": {},
   "outputs": [
    {
     "data": {
      "text/plain": [
       "False"
      ]
     },
     "execution_count": 147,
     "metadata": {},
     "output_type": "execute_result"
    }
   ],
   "source": [
    "import re\n",
    "def contains1(text, keyword):\n",
    "    pattern = r'\\b{}\\b'.format(keyword)  # 这样的匹配策略只会匹配单独的单词，如果是一个单词中包含了关键词匹配失败\n",
    "    match = re.search(pattern, text)\n",
    "    if match:\n",
    "        return True\n",
    "    else:\n",
    "        return False\n",
    "\n",
    "def contains(text, keyword:str):\n",
    "    if keyword=='':\n",
    "        return True\n",
    "    words = keyword.split(',')\n",
    "    res = False\n",
    "    for word in words:\n",
    "        res = res or contains1(text, word)\n",
    "    return res\n",
    "\n",
    "contains('low poly ca des', 'car,desk')"
   ]
  },
  {
   "cell_type": "code",
   "execution_count": 6,
   "metadata": {
    "ExecuteTime": {
     "end_time": "2024-05-24T06:47:12.595615200Z",
     "start_time": "2024-05-24T06:47:12.554058700Z"
    }
   },
   "outputs": [],
   "source": [
    "# 为data.csv添加一列，nerf_data_path\n",
    "import pandas as pd\n",
    "csv_file = 'data.csv'\n",
    "data = pd.read_csv(csv_file)"
   ]
  },
  {
   "cell_type": "code",
   "execution_count": 7,
   "outputs": [],
   "source": [
    "data['nerf_data_path'] = 'no'"
   ],
   "metadata": {
    "collapsed": false,
    "ExecuteTime": {
     "end_time": "2024-05-24T06:47:12.690285100Z",
     "start_time": "2024-05-24T06:47:12.673313100Z"
    }
   }
  },
  {
   "cell_type": "code",
   "execution_count": 10,
   "outputs": [],
   "source": [
    "data.to_csv(csv_file,index=None)"
   ],
   "metadata": {
    "collapsed": false,
    "ExecuteTime": {
     "end_time": "2024-05-24T06:47:28.058430500Z",
     "start_time": "2024-05-24T06:47:27.995567Z"
    }
   }
  },
  {
   "cell_type": "code",
   "execution_count": null,
   "outputs": [],
   "source": [],
   "metadata": {
    "collapsed": false
   }
  }
 ],
 "metadata": {
  "kernelspec": {
   "display_name": "blendswap",
   "language": "python",
   "name": "python3"
  },
  "language_info": {
   "codemirror_mode": {
    "name": "ipython",
    "version": 3
   },
   "file_extension": ".py",
   "mimetype": "text/x-python",
   "name": "python",
   "nbconvert_exporter": "python",
   "pygments_lexer": "ipython3",
   "version": "3.10.14"
  }
 },
 "nbformat": 4,
 "nbformat_minor": 2
}
